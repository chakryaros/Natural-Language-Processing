{
 "cells": [
  {
   "cell_type": "markdown",
   "metadata": {},
   "source": [
    "CSCI 3832, Spring 2020, Lecture 34 — HW 5 examples & getting started"
   ]
  },
  {
   "cell_type": "code",
   "execution_count": 4,
   "metadata": {},
   "outputs": [],
   "source": [
    "import numpy as np\n",
    "from collections import Counter\n",
    "from scipy.special import softmax\n"
   ]
  },
  {
   "cell_type": "markdown",
   "metadata": {},
   "source": [
    "Section 1: building a Mini-HMM\n",
    "========================"
   ]
  },
  {
   "cell_type": "code",
   "execution_count": 8,
   "metadata": {},
   "outputs": [],
   "source": [
    "class GreedyHMM:\n",
    "  \n",
    "    def __init__(self):\n",
    "        # here are the items that we'll need to gather\n",
    "        self.pi = Counter() # pi\n",
    "        self.transitions = {} # this is A\n",
    "        self.emissions = {} # this is B\n",
    "        self.states = set() # Q\n",
    "        self.vocab = set() # O\n",
    "\n",
    "    def train(self, example):\n",
    "        \"\"\"\n",
    "        Trains this model based on the given input data\n",
    "        params: examples - a list of (token, label) tuples\n",
    "        return: None\n",
    "        \"\"\"\n",
    "        # pi * p(w_i | t_i)\n",
    "        # prev_probability * p(w_i | t_i) * p(t_i | t_(i-1))\n",
    "        \n",
    "        #pi is probability of start sentence with tag\n",
    "        for i in range(len(example)):\n",
    "            word = example[i][0]\n",
    "            state = example[i][1]\n",
    "            if i==0:\n",
    "                #count(sentence that start with state)/ count of sentence\n",
    "                self.pi[state] += 1\n",
    "            else:\n",
    "                #p(t_i | t_(t_i) \n",
    "                #count(t_i_1, t_i)/ count(t_i_1))\n",
    "                #traintions[prev_state][state] = count(t_i_1, t_i)\n",
    "                #traintions[prev_state].values() = count(t_i_1)\n",
    "                if state not in self.transitions:\n",
    "                    self.transitions[]\n",
    "        print(self.pi)\n",
    "    \n",
    "    def greedy_decode(self, data):\n",
    "        \"\"\"\n",
    "        params: data - a list of tokens\n",
    "        return: a list of [(token, label)...] tuples\n",
    "        \"\"\"\n",
    "        pass\n",
    "            "
   ]
  },
  {
   "cell_type": "code",
   "execution_count": 9,
   "metadata": {},
   "outputs": [],
   "source": [
    "\n",
    "train_data = [(\"I\", \"NOUN\"), (\"went\", \"OTHER\"), (\"to\", \"OTHER\"), (\"the\", \"OTHER\"), (\"zoo\", \"NOUN\"), (\"and\", \"OTHER\"), \\\n",
    "               (\"I\", \"NOUN\"), (\"saw\", \"OTHER\"), (\"a\", \"OTHER\"), (\"penguin\", \"NOUN\"), (\"and\", \"OTHER\"), (\"sparkly\", \"OTHER\"), (\"jaguars\", \"NOUN\"), (\"!\", \"OTHER\")]\n",
    "test_data = \"I went to the penguin park .\".split()\n"
   ]
  },
  {
   "cell_type": "code",
   "execution_count": 10,
   "metadata": {},
   "outputs": [
    {
     "name": "stdout",
     "output_type": "stream",
     "text": [
      "Counter({'NOUN': 1})\n"
     ]
    }
   ],
   "source": [
    "hmm = GreedyHMM()\n",
    "hmm.train(train_data)\n",
    "hmm.greedy_decode(test_data)"
   ]
  },
  {
   "cell_type": "markdown",
   "metadata": {},
   "source": [
    "Differences between this HMM and the one that you're implementing for HW 5?\n"
   ]
  },
  {
   "cell_type": "markdown",
   "metadata": {},
   "source": [
    "Section 2: building a Mini-MEMM\n",
    "========================"
   ]
  },
  {
   "cell_type": "code",
   "execution_count": 8,
   "metadata": {},
   "outputs": [],
   "source": [
    "class GreedyMEMM:\n",
    "  \n",
    "    def __init__(self):\n",
    "        # TODO: randomly initialize your weights\n",
    "        self.weights = np.array([[1, 0, 1],[2, -3, -0.5],[0, 0.5, -1]])\n",
    "        #self.weights = 2 * np.random.random_sample((len(self.categories), self.num_feats + 1)) - 1\n",
    "        self.num_feats = 2\n",
    "        self.states = [1, 2, 3]\n",
    "\n",
    "    def train(self, examples, iterations = 100, learning_rate = 0.1):\n",
    "        \"\"\"\n",
    "        Trains this model based on the given input data\n",
    "        params: examples - a list of (features, label) data, one per example\n",
    "        return: None\n",
    "        \"\"\"\n",
    "        pass\n",
    "    \n",
    "    def classify_single(self, data):\n",
    "        \"\"\"\n",
    "        params: data - a list of features\n",
    "        return: a list of [(token, label)...] tuples\n",
    "        \"\"\"\n",
    "        pass"
   ]
  },
  {
   "cell_type": "code",
   "execution_count": 9,
   "metadata": {},
   "outputs": [],
   "source": [
    "train_data = [([3, 0.75], 1), ([0, 1], 2), ([1, 1], 3), ([2, 4], 2)]\n",
    "test_data = [2, 4]"
   ]
  },
  {
   "cell_type": "code",
   "execution_count": 10,
   "metadata": {},
   "outputs": [],
   "source": [
    "memm = GreedyMEMM()\n",
    "memm.train(train_data, iterations = 100)\n",
    "memm.classify_single(test_data)"
   ]
  },
  {
   "cell_type": "markdown",
   "metadata": {},
   "source": [
    "Differences between this MEMM and the one that you're implementing for HW 5?"
   ]
  },
  {
   "cell_type": "markdown",
   "metadata": {},
   "source": [
    "General questions:\n",
    "1. what happens with unknown words?\n",
    "    1. for the HMM?\n",
    "    2. for the MEMM?\n",
    "    \n"
   ]
  },
  {
   "cell_type": "markdown",
   "metadata": {},
   "source": [
    "HW 5 format questions:\n",
    "1. What is the `generate_probabilities` function doing?\n",
    "    1. What do the return values represent?\n",
    "2. What is the `decode` function doing?\n",
    "3. How to use the `precision`, `recall`, `f1` functions?"
   ]
  }
 ],
 "metadata": {
  "kernelspec": {
   "display_name": "Python 3",
   "language": "python",
   "name": "python3"
  },
  "language_info": {
   "codemirror_mode": {
    "name": "ipython",
    "version": 3
   },
   "file_extension": ".py",
   "mimetype": "text/x-python",
   "name": "python",
   "nbconvert_exporter": "python",
   "pygments_lexer": "ipython3",
   "version": "3.7.3"
  }
 },
 "nbformat": 4,
 "nbformat_minor": 4
}
