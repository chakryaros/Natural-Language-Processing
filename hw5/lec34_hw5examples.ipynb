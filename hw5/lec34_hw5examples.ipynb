{
 "cells": [
  {
   "cell_type": "markdown",
   "metadata": {},
   "source": [
    "CSCI 3832, Spring 2020, Lecture 34 — HW 5 examples & getting started"
   ]
  },
  {
   "cell_type": "code",
   "execution_count": 4,
   "metadata": {},
   "outputs": [],
   "source": [
    "import numpy as np\n",
    "from collections import Counter\n",
    "from scipy.special import softmax\n"
   ]
  },
  {
   "cell_type": "markdown",
   "metadata": {},
   "source": [
    "Section 1: building a Mini-HMM\n",
    "========================"
   ]
  },
  {
   "cell_type": "code",
   "execution_count": 18,
   "metadata": {},
   "outputs": [],
   "source": [
    "class GreedyHMM:\n",
    "  \n",
    "    def __init__(self):\n",
    "        # here are the items that we'll need to gather\n",
    "        self.pi = Counter() # pi\n",
    "        self.transitions = {} # this is A\n",
    "        self.emissions = {} # this is B\n",
    "        self.states = set() # Q\n",
    "        self.vocab = set() # O\n",
    "\n",
    "    def train(self, example):\n",
    "        \"\"\"\n",
    "        Trains this model based on the given input data\n",
    "        params: examples - a list of (token, label) tuples\n",
    "        return: None\n",
    "        \"\"\"\n",
    "        # pi * p(w_i | t_i)\n",
    "        # prev_probability * p(w_i | t_i) * p(t_i | t_(i-1))\n",
    "        \n",
    "        #pi is probability of start sentence with tag\n",
    "        for i in range(len(example)):\n",
    "            word = example[i][0]\n",
    "            state = example[i][1]\n",
    "            if i==0:\n",
    "                #count(sentence that start with state)/ count of sentence\n",
    "                self.pi[state] += 1\n",
    "            else:\n",
    "                #p(t_i | t_(t_i) \n",
    "                #count(t_i_1, t_i)/ count(t_i_1))\n",
    "                #traintions[prev_state][state] = count(t_i_1, t_i)\n",
    "                #traintions[prev_state].values() = count(t_i_1)\n",
    "                if state not in self.transitions:\n",
    "                    self.transitions[example[i-1][1]] = Counter()\n",
    "                self.transitions[example[i-1][1]][state] +=1\n",
    "                \n",
    "                #Todo: think about what happend for the final state in the sentenc\n",
    "                \n",
    "            #p(w_i | t_i)\n",
    "            #count(t_i, w_i)/count(t_i)\n",
    "            # emission[state][word] = count(t_i, w_i)\n",
    "            #sum(emission[state].values()) = Count(t_i)\n",
    "            if state not in self.emissions:\n",
    "                self.emissions[state] = Counter()\n",
    "            self.emissions[state][word] +=1\n",
    "\n",
    "        print(self.pi)\n",
    "        print(self.transitions)\n",
    "        print(self.emissions)\n",
    "    \n",
    "    def greedy_decode(self, data):\n",
    "        \"\"\"\n",
    "        params: data - a list of tokens\n",
    "        return: a list of [(token, label)...] tuples\n",
    "        \"\"\"\n",
    "        # generate probabilityies - run viterbi\n",
    "        for i in range(len(data)):\n",
    "            word = data[i]\n",
    "            max_prob = 0\n",
    "            max_state = None\n",
    "            for state in self.emissions.keys():\n",
    "                # pi * emssion prob\n",
    "                emssion = self.emissions[state][word]/sum(self.emssions[state].values())\n",
    "                if i==0:\n",
    "                    pi_val = self.pi[state]/sum(self.pi,values())\n",
    "                    prob = emssion * pi_val\n",
    "#                     print(state)\n",
    "#                     print(prob)\n",
    "                else:\n",
    "                    transitions = self.transitions[prev_state][state]/sum(self.transitions.values())\n",
    "                    prob = prev_state * transitions * emssion\n",
    "                print(state)\n",
    "                prev_state = prob\n",
    "                \n",
    "                \n",
    "            "
   ]
  },
  {
   "cell_type": "code",
   "execution_count": 19,
   "metadata": {},
   "outputs": [],
   "source": [
    "\n",
    "train_data = [(\"I\", \"NOUN\"), (\"went\", \"OTHER\"), (\"to\", \"OTHER\"), (\"the\", \"OTHER\"), (\"zoo\", \"NOUN\"), (\"and\", \"OTHER\"), \\\n",
    "               (\"I\", \"NOUN\"), (\"saw\", \"OTHER\"), (\"a\", \"OTHER\"), (\"penguin\", \"NOUN\"), (\"and\", \"OTHER\"), (\"sparkly\", \"OTHER\"), (\"jaguars\", \"NOUN\"), (\"!\", \"OTHER\")]\n",
    "test_data = \"I went to the penguin park .\".split()\n"
   ]
  },
  {
   "cell_type": "code",
   "execution_count": 20,
   "metadata": {},
   "outputs": [
    {
     "name": "stdout",
     "output_type": "stream",
     "text": [
      "Counter({'NOUN': 1})\n",
      "{'NOUN': Counter({'OTHER': 5}), 'OTHER': Counter({'OTHER': 4, 'NOUN': 4})}\n",
      "{'NOUN': Counter({'I': 2, 'zoo': 1, 'penguin': 1, 'jaguars': 1}), 'OTHER': Counter({'and': 2, 'went': 1, 'to': 1, 'the': 1, 'saw': 1, 'a': 1, 'sparkly': 1, '!': 1})}\n"
     ]
    },
    {
     "ename": "TypeError",
     "evalue": "'list' object cannot be interpreted as an integer",
     "output_type": "error",
     "traceback": [
      "\u001b[0;31m---------------------------------------------------------------------------\u001b[0m",
      "\u001b[0;31mTypeError\u001b[0m                                 Traceback (most recent call last)",
      "\u001b[0;32m<ipython-input-20-f4fe0820aba4>\u001b[0m in \u001b[0;36m<module>\u001b[0;34m\u001b[0m\n\u001b[1;32m      1\u001b[0m \u001b[0mhmm\u001b[0m \u001b[0;34m=\u001b[0m \u001b[0mGreedyHMM\u001b[0m\u001b[0;34m(\u001b[0m\u001b[0;34m)\u001b[0m\u001b[0;34m\u001b[0m\u001b[0;34m\u001b[0m\u001b[0m\n\u001b[1;32m      2\u001b[0m \u001b[0mhmm\u001b[0m\u001b[0;34m.\u001b[0m\u001b[0mtrain\u001b[0m\u001b[0;34m(\u001b[0m\u001b[0mtrain_data\u001b[0m\u001b[0;34m)\u001b[0m\u001b[0;34m\u001b[0m\u001b[0;34m\u001b[0m\u001b[0m\n\u001b[0;32m----> 3\u001b[0;31m \u001b[0mhmm\u001b[0m\u001b[0;34m.\u001b[0m\u001b[0mgreedy_decode\u001b[0m\u001b[0;34m(\u001b[0m\u001b[0mtest_data\u001b[0m\u001b[0;34m)\u001b[0m\u001b[0;34m\u001b[0m\u001b[0;34m\u001b[0m\u001b[0m\n\u001b[0m",
      "\u001b[0;32m<ipython-input-18-a2082a5a7558>\u001b[0m in \u001b[0;36mgreedy_decode\u001b[0;34m(self, data)\u001b[0m\n\u001b[1;32m     54\u001b[0m         \"\"\"\n\u001b[1;32m     55\u001b[0m         \u001b[0;31m# generate probabilityies - run viterbi\u001b[0m\u001b[0;34m\u001b[0m\u001b[0;34m\u001b[0m\u001b[0;34m\u001b[0m\u001b[0m\n\u001b[0;32m---> 56\u001b[0;31m         \u001b[0;32mfor\u001b[0m \u001b[0mi\u001b[0m \u001b[0;32min\u001b[0m \u001b[0mrange\u001b[0m\u001b[0;34m(\u001b[0m\u001b[0mdata\u001b[0m\u001b[0;34m)\u001b[0m\u001b[0;34m:\u001b[0m\u001b[0;34m\u001b[0m\u001b[0;34m\u001b[0m\u001b[0m\n\u001b[0m\u001b[1;32m     57\u001b[0m             \u001b[0mword\u001b[0m \u001b[0;34m=\u001b[0m \u001b[0mdata\u001b[0m\u001b[0;34m[\u001b[0m\u001b[0mi\u001b[0m\u001b[0;34m]\u001b[0m\u001b[0;34m\u001b[0m\u001b[0;34m\u001b[0m\u001b[0m\n\u001b[1;32m     58\u001b[0m             \u001b[0mmax_prob\u001b[0m \u001b[0;34m=\u001b[0m \u001b[0;36m0\u001b[0m\u001b[0;34m\u001b[0m\u001b[0;34m\u001b[0m\u001b[0m\n",
      "\u001b[0;31mTypeError\u001b[0m: 'list' object cannot be interpreted as an integer"
     ]
    }
   ],
   "source": [
    "hmm = GreedyHMM()\n",
    "hmm.train(train_data)\n",
    "hmm.greedy_decode(test_data)"
   ]
  },
  {
   "cell_type": "markdown",
   "metadata": {},
   "source": [
    "Differences between this HMM and the one that you're implementing for HW 5?\n"
   ]
  },
  {
   "cell_type": "markdown",
   "metadata": {},
   "source": [
    "Section 2: building a Mini-MEMM\n",
    "========================"
   ]
  },
  {
   "cell_type": "code",
   "execution_count": 8,
   "metadata": {},
   "outputs": [],
   "source": [
    "class GreedyMEMM:\n",
    "  \n",
    "    def __init__(self):\n",
    "        # TODO: randomly initialize your weights\n",
    "        self.weights = np.array([[1, 0, 1],[2, -3, -0.5],[0, 0.5, -1]])\n",
    "        #self.weights = 2 * np.random.random_sample((len(self.categories), self.num_feats + 1)) - 1\n",
    "        self.num_feats = 2\n",
    "        self.states = [1, 2, 3]\n",
    "\n",
    "    def train(self, examples, iterations = 100, learning_rate = 0.1):\n",
    "        \"\"\"\n",
    "        Trains this model based on the given input data\n",
    "        params: examples - a list of (features, label) data, one per example\n",
    "        return: None\n",
    "        \"\"\"\n",
    "        pass\n",
    "    \n",
    "    def classify_single(self, data):\n",
    "        \"\"\"\n",
    "        params: data - a list of features\n",
    "        return: a list of [(token, label)...] tuples\n",
    "        \"\"\"\n",
    "        pass"
   ]
  },
  {
   "cell_type": "code",
   "execution_count": 9,
   "metadata": {},
   "outputs": [],
   "source": [
    "train_data = [([3, 0.75], 1), ([0, 1], 2), ([1, 1], 3), ([2, 4], 2)]\n",
    "test_data = [2, 4]"
   ]
  },
  {
   "cell_type": "code",
   "execution_count": 10,
   "metadata": {},
   "outputs": [],
   "source": [
    "memm = GreedyMEMM()\n",
    "memm.train(train_data, iterations = 100)\n",
    "memm.classify_single(test_data)"
   ]
  },
  {
   "cell_type": "code",
   "execution_count": 15,
   "metadata": {},
   "outputs": [
    {
     "name": "stdout",
     "output_type": "stream",
     "text": [
      "68.0\n",
      "90.24069999999999\n"
     ]
    }
   ],
   "source": [
    "hws = [48, 104.32, 102.5, 137, 67.87] \n",
    "lecture_quiz_perc = 104.17\n",
    "remote_piazza_perc = 100\n",
    "pre_remote_piazza_perc = 100\n",
    "pre_remote_quizzes_perc = 91.7\n",
    "exams_perc = (85/125)*100\n",
    "print(exams_perc)\n",
    "total = (((sum(hws) / 500) * 100) * .6) + (lecture_quiz_perc * .12) + (remote_piazza_perc * .03) + (pre_remote_piazza_perc * .025) + (pre_remote_quizzes_perc * .075)+ (exams_perc * .15) \n",
    "print(total)"
   ]
  },
  {
   "cell_type": "code",
   "execution_count": 16,
   "metadata": {},
   "outputs": [
    {
     "name": "stdout",
     "output_type": "stream",
     "text": [
      "40\n"
     ]
    }
   ],
   "source": [
    "print(125-85)"
   ]
  },
  {
   "cell_type": "markdown",
   "metadata": {},
   "source": [
    "Differences between this MEMM and the one that you're implementing for HW 5?"
   ]
  },
  {
   "cell_type": "markdown",
   "metadata": {},
   "source": [
    "General questions:\n",
    "1. what happens with unknown words?\n",
    "    1. for the HMM?\n",
    "    2. for the MEMM?\n",
    "    \n"
   ]
  },
  {
   "cell_type": "markdown",
   "metadata": {},
   "source": [
    "HW 5 format questions:\n",
    "1. What is the `generate_probabilities` function doing?\n",
    "    1. What do the return values represent?\n",
    "2. What is the `decode` function doing?\n",
    "3. How to use the `precision`, `recall`, `f1` functions?"
   ]
  }
 ],
 "metadata": {
  "kernelspec": {
   "display_name": "Python 3",
   "language": "python",
   "name": "python3"
  },
  "language_info": {
   "codemirror_mode": {
    "name": "ipython",
    "version": 3
   },
   "file_extension": ".py",
   "mimetype": "text/x-python",
   "name": "python",
   "nbconvert_exporter": "python",
   "pygments_lexer": "ipython3",
   "version": "3.7.3"
  }
 },
 "nbformat": 4,
 "nbformat_minor": 4
}
