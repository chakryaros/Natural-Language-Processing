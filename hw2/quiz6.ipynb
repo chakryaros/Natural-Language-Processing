{
 "cells": [
  {
   "cell_type": "code",
   "execution_count": 27,
   "metadata": {},
   "outputs": [
    {
     "name": "stdout",
     "output_type": "stream",
     "text": [
      "127.9872\n",
      "cosine: 0.9954450113376041\n",
      "cosine: 0.9954\n",
      "0.9954450113376041\n",
      "0.9954450113376041\n"
     ]
    }
   ],
   "source": [
    "import numpy as np\n",
    "\n",
    "def cosineCal(w1, w2):\n",
    "    numerator = np.dot(w1,w2)\n",
    "    w1Sum = 0.0\n",
    "    w2Sum =0.0\n",
    "    w1Sqrt = 0.0\n",
    "    w2Sqrt = 0.0\n",
    "    result = 0.0\n",
    "    for i in w1:\n",
    "        w1Sum += i**2\n",
    "        w1Sqrt = np.sqrt(w1Sum)\n",
    "    for j in w2:\n",
    "        w2Sum += j**2\n",
    "        w2Sqrt = np.sqrt(w2Sum)\n",
    "    result = numerator / (w1Sqrt * w2Sqrt)\n",
    "    return result\n",
    "def cosineCal1(w1,w2):\n",
    "    dot = np.dot(w1,w2)\n",
    "    normw1 = np.linalg.norm(w1)\n",
    "    normw2 = np.linalg.norm(w2)\n",
    "    cos = dot / (normw1*normw2)\n",
    "    return cos\n",
    "        \n",
    "\n",
    "#question3\n",
    "courageous = [8.05, 5.5, 7.38]\n",
    "life = [6.68, 5.59, 5.89]\n",
    "\n",
    "numerator = np.dot(courageous, life)\n",
    "c1 = 8.05**2\n",
    "c2 = 5.5**2\n",
    "c3 = 7.38**2\n",
    "l1 = 6.68**2\n",
    "l2 = 5.59**2\n",
    "l3 = 5.89**2\n",
    "deno = np.sqrt(c1+c2+c3) * np.sqrt(l1+l2+l3)\n",
    "cnew = 0\n",
    "lnew = 0\n",
    "c = 0\n",
    "l = 0\n",
    "for i in courageous:\n",
    "    c += i**2\n",
    "    cnew =np.sqrt(c)\n",
    "for j in life:\n",
    "    l += j**2\n",
    "    lnew = np.sqrt(l)\n",
    "\n",
    "print(\"cosine: {}\".format(numerator/(cnew*lnew)))\n",
    "cosine = numerator/deno\n",
    "print(\"cosine: {:.04f}\".format(cosine))\n",
    "print(cosineCal(courageous,life))\n",
    "print(cosineCal1(courageous,life))"
   ]
  },
  {
   "cell_type": "code",
   "execution_count": 26,
   "metadata": {},
   "outputs": [
    {
     "name": "stdout",
     "output_type": "stream",
     "text": [
      "0.886526295070241\n",
      "0.886526295070241\n"
     ]
    }
   ],
   "source": [
    "#question4\n",
    "courageous = [8.05, 5.5, 7.38]\n",
    "heartbreak = [2.45, 5.65, 3.58]\n",
    "print(cosineCal(courageous,heartbreak))\n",
    "print(cosineCal1(courageous, heartbreak))"
   ]
  },
  {
   "cell_type": "code",
   "execution_count": 37,
   "metadata": {},
   "outputs": [
    {
     "name": "stdout",
     "output_type": "stream",
     "text": [
      "0.7098957922377989\n"
     ]
    }
   ],
   "source": [
    "#question6\n",
    "tf_t_d = 1 + np.log10(1075)\n",
    "if tf_t_d < 0:\n",
    "    tf_t_d = 0\n",
    "\n",
    "idf = np.log10(3/2)\n",
    "\n",
    "w_t_d = tf_t_d * idf\n",
    "print(w_t_d)"
   ]
  },
  {
   "cell_type": "code",
   "execution_count": 39,
   "metadata": {},
   "outputs": [
    {
     "name": "stdout",
     "output_type": "stream",
     "text": [
      "5.4363694047127895\n",
      "0.0\n"
     ]
    }
   ],
   "source": [
    "#QUESTION6\n",
    "tf_t_d = 1 + np.log10(27313)\n",
    "if tf_t_d < 0:\n",
    "    tf_t_d = 0\n",
    "\n",
    "idf = np.log10(3/3)\n",
    "print(tf_t_d)\n",
    "w_t_d = tf_t_d * idf\n",
    "print(w_t_d)"
   ]
  },
  {
   "cell_type": "code",
   "execution_count": 40,
   "metadata": {},
   "outputs": [
    {
     "name": "stdout",
     "output_type": "stream",
     "text": [
      "1.762355636462281\n"
     ]
    }
   ],
   "source": [
    "#QUESTION7\n",
    "tf_t_d = 1 + np.log10(494)\n",
    "if tf_t_d < 0:\n",
    "    tf_t_d = 0\n",
    "\n",
    "idf = np.log10(3/1)\n",
    "# print(tf_t_d)\n",
    "w_t_d = tf_t_d * idf\n",
    "print(w_t_d)"
   ]
  },
  {
   "cell_type": "code",
   "execution_count": null,
   "metadata": {},
   "outputs": [],
   "source": [
    "#remove punctuation\n",
    "symbols = \"!\\\"#$%&()*+-./:;<=>?@[\\]^_`{|}~\\n\"\n",
    "for i in symbols:\n",
    "    data = np.char.replace(data, i, ' ')\n",
    "    \n",
    "#remove sigle character\n",
    "new_text = \"\"\n",
    "for w in words:\n",
    "    if len(w) > 1:\n",
    "       new_text = new_text + \" \" + w\n",
    "    \n",
    "#append to list if not stop word\n",
    "new_text = \"\"\n",
    "for word in words:\n",
    "    if word not in stop_words:\n",
    "        new_text = new_text + \" \" + word"
   ]
  }
 ],
 "metadata": {
  "kernelspec": {
   "display_name": "Python 3",
   "language": "python",
   "name": "python3"
  },
  "language_info": {
   "codemirror_mode": {
    "name": "ipython",
    "version": 3
   },
   "file_extension": ".py",
   "mimetype": "text/x-python",
   "name": "python",
   "nbconvert_exporter": "python",
   "pygments_lexer": "ipython3",
   "version": "3.7.3"
  }
 },
 "nbformat": 4,
 "nbformat_minor": 2
}
