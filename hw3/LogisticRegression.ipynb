{
 "cells": [
  {
   "cell_type": "code",
   "execution_count": 59,
   "metadata": {},
   "outputs": [
    {
     "name": "stdout",
     "output_type": "stream",
     "text": [
      "[[0.   1.   0.   0.  ]\n",
      " [0.   0.61 0.8  0.  ]\n",
      " [0.71 0.   0.   0.71]]\n"
     ]
    }
   ],
   "source": [
    "import numpy as np\n",
    "import re\n",
    "import nltk \n",
    "from nltk.corpus import stopwords\n",
    "from sklearn.feature_extraction.text import TfidfVectorizer\n",
    "from sklearn.linear_model import LogisticRegression\n",
    "\n",
    "\"\"\"\n",
    "implement logistic regression class \n",
    "\"\"\" \n",
    "def generate_tuples_from_file(training_file_path):\n",
    "    file = open(training_file_path, 'r')\n",
    "    sentences = file.read()\n",
    "    file.close()\n",
    "    list_word = []\n",
    "    tuple_word = ()\n",
    "    wordsList = sentences.split(\"\\n\")\n",
    "    for words in wordsList:\n",
    "        word = words.split(':',1)\n",
    "        if len(word) == 2:\n",
    "            tupleWord = (word[0],word[1])\n",
    "            list_word.append(tupleWord)\n",
    "    return list_word\n",
    "def preprocessData(examples):\n",
    "    clean_data = []\n",
    "    for i in range(len(examples)):\n",
    "        #convert lower case\n",
    "        sentence = examples[i][1].lower()\n",
    "        #remove punctuation\n",
    "        sentence = re.sub('[^a-zA-Z0-9\\']+', ' ', sentence)\n",
    "        sentence = re.sub(r'\\s+',' ', sentence)\n",
    "        clean_data.append((examples[i][0], sentence))\n",
    "    return clean_data\n",
    "def preprocessDataFortest(examples):\n",
    "    clean_data = []\n",
    "    for i in range(len(examples)):\n",
    "        #convert lower case\n",
    "        sentence = examples[i].lower()\n",
    "        #remove punctuation\n",
    "        sentence = re.sub('[^a-zA-Z0-9\\']+', ' ', sentence)\n",
    "        sentence = re.sub(r'\\s+',' ', sentence)\n",
    "        clean_data.append(sentence)\n",
    "    return clean_data\n",
    "class LogisticRegressionTrain:\n",
    "    def __init__(self): \n",
    "        self.weight = {}\n",
    "        self.text = []\n",
    "        self.y_train = []\n",
    "        self.x_train = None\n",
    "        self.mode = None\n",
    "    def train(self, exampleText):\n",
    "        clean_data = preprocessData(exampleText)\n",
    "        for i in range(len(clean_data)):\n",
    "            self.text.append(clean_data[i][1])\n",
    "            if(clean_data[i][0] =='positive'):\n",
    "                self.y_train.append(1)\n",
    "            else:\n",
    "                self.y_train.append(0)\n",
    "\n",
    "        tv = TfidfVectorizer(max_features=4, stop_words = stopwords.words('english'))\n",
    "        tv_matrix = tv.fit_transform(self.text)\n",
    "        vocab = tv.get_feature_names()\n",
    "        self.x_train = tv_matrix.toarray()\n",
    "        print(self.x_train)\n",
    "        self.model = LogisticRegression(solver='liblinear')\n",
    "        self.model.fit(self.x_train, self.y_train)\n",
    "\n",
    "if __name__ == \"__main__\":\n",
    "    examples = generate_tuples_from_file('minidev.txt')\n",
    "    LR = LogisticRegressionTrain()\n",
    "    LR.train(examples)"
   ]
  },
  {
   "cell_type": "code",
   "execution_count": 105,
   "metadata": {},
   "outputs": [
    {
     "name": "stdout",
     "output_type": "stream",
     "text": [
      "0.25\n"
     ]
    }
   ],
   "source": [
    "import numpy as np\n",
    "x = [5,1,1,3]\n",
    "w =[0.5, 1, -0.5, -1]\n",
    "z = np.dot(x, w) + 0.25\n",
    "print(z)"
   ]
  },
  {
   "cell_type": "code",
   "execution_count": 106,
   "metadata": {},
   "outputs": [
    {
     "name": "stdout",
     "output_type": "stream",
     "text": [
      "-1.665\n",
      "0.15909194771428195\n"
     ]
    }
   ],
   "source": [
    "x = [4.17,0,0,4]\n",
    "w =[0.5, 1, -0.5, -1]\n",
    "z = np.dot(x, w) + 0.25\n",
    "print(z)\n",
    "def sigmoid(x):\n",
    "    return 1 / (1 + np.exp(-x))\n",
    "\n",
    "print(sigmoid(z))"
   ]
  },
  {
   "cell_type": "code",
   "execution_count": null,
   "metadata": {},
   "outputs": [],
   "source": []
  },
  {
   "cell_type": "code",
   "execution_count": null,
   "metadata": {},
   "outputs": [],
   "source": []
  }
 ],
 "metadata": {
  "kernelspec": {
   "display_name": "Python 3",
   "language": "python",
   "name": "python3"
  },
  "language_info": {
   "codemirror_mode": {
    "name": "ipython",
    "version": 3
   },
   "file_extension": ".py",
   "mimetype": "text/x-python",
   "name": "python",
   "nbconvert_exporter": "python",
   "pygments_lexer": "ipython3",
   "version": "3.7.3"
  }
 },
 "nbformat": 4,
 "nbformat_minor": 2
}
