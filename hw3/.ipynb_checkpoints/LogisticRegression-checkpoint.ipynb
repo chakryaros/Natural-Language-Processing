{
 "cells": [
  {
   "cell_type": "code",
   "execution_count": 14,
   "metadata": {},
   "outputs": [
    {
     "name": "stdout",
     "output_type": "stream",
     "text": [
      "[[0.   0.14 0.24 0.   0.   0.   0.24 0.24 0.24 0.   0.   0.   0.   0.\n",
      "  0.   0.   0.18 0.   0.   0.   0.   0.   0.   0.   0.   0.   0.   0.18\n",
      "  0.24 0.24 0.24 0.   0.   0.   0.   0.   0.   0.   0.   0.   0.   0.\n",
      "  0.   0.   0.24 0.   0.24 0.24 0.   0.   0.   0.18 0.28 0.   0.   0.\n",
      "  0.24 0.   0.   0.24 0.   0.   0.24 0.24]\n",
      " [0.   0.09 0.   0.15 0.   0.15 0.   0.   0.   0.   0.   0.15 0.15 0.15\n",
      "  0.   0.   0.11 0.15 0.   0.   0.15 0.   0.   0.   0.   0.15 0.3  0.11\n",
      "  0.   0.   0.   0.15 0.15 0.   0.15 0.15 0.15 0.11 0.15 0.15 0.15 0.\n",
      "  0.   0.15 0.   0.15 0.   0.   0.15 0.15 0.   0.34 0.44 0.3  0.   0.\n",
      "  0.   0.   0.   0.   0.15 0.   0.   0.  ]\n",
      " [0.19 0.34 0.   0.   0.19 0.   0.   0.   0.   0.19 0.19 0.   0.   0.\n",
      "  0.19 0.19 0.   0.   0.19 0.19 0.   0.19 0.19 0.19 0.19 0.   0.   0.\n",
      "  0.   0.   0.   0.   0.   0.19 0.   0.   0.   0.29 0.   0.   0.   0.19\n",
      "  0.19 0.   0.   0.   0.   0.   0.   0.   0.19 0.   0.11 0.   0.19 0.19\n",
      "  0.   0.19 0.19 0.   0.   0.19 0.   0.  ]]\n"
     ]
    }
   ],
   "source": [
    "import numpy as np\n",
    "import re\n",
    "import nltk \n",
    "from nltk.corpus import stopwords\n",
    "from sklearn.feature_extraction.text import TfidfVectorizer\n",
    "from sklearn.linear_model import LogisticRegression\n",
    "\n",
    "\"\"\"\n",
    "implement logistic regression class \n",
    "\"\"\" \n",
    "def generate_tuples_from_file(training_file_path):\n",
    "    file = open(training_file_path, 'r')\n",
    "    sentences = file.read()\n",
    "    file.close()\n",
    "    list_word = []\n",
    "    tuple_word = ()\n",
    "    wordsList = sentences.split(\"\\n\")\n",
    "    for words in wordsList:\n",
    "        word = words.split(':',1)\n",
    "        if len(word) == 2:\n",
    "            tupleWord = (word[0],word[1])\n",
    "            list_word.append(tupleWord)\n",
    "    return list_word\n",
    "def preprocessData(examples):\n",
    "    clean_data = []\n",
    "    for i in range(len(examples)):\n",
    "        #convert lower case\n",
    "        sentence = examples[i][1].lower()\n",
    "        #remove punctuation\n",
    "        sentence = re.sub('[^a-zA-Z0-9\\']+', ' ', sentence)\n",
    "        sentence = re.sub(r'\\s+',' ', sentence)\n",
    "        clean_data.append((examples[i][0], sentence))\n",
    "    return clean_data\n",
    "class LogisticRegression:\n",
    "    def __init__(self): \n",
    "        self.weight = {}\n",
    "        self.text = []\n",
    "        self.y_train = []\n",
    "        self.x_train = None\n",
    "      \n",
    "    def train(self, exampleText):\n",
    "        clean_data = preprocessData(exampleText)\n",
    "        for i in range(len(clean_data)):\n",
    "            self.text.append(clean_data[i][1])\n",
    "            if(clean_data[i][0] =='positive'):\n",
    "                self.y_train.append(1)\n",
    "            else:\n",
    "                self.y_train.append(0)\n",
    "        \n",
    "        tv = TfidfVectorizer(min_df=0., max_df=1., use_idf=True)\n",
    "        tv_matrix = tv.fit_transform(self.text)\n",
    "        self.x_train = tv_matrix.toarray()\n",
    "\n",
    "\n",
    "if __name__ == \"__main__\":\n",
    "    examples = generate_tuples_from_file('minidev.txt')\n",
    "    LR = LogisticRegression()\n",
    "    LR_model = LR.train(examples)\n",
    "\n"
   ]
  },
  {
   "cell_type": "code",
   "execution_count": null,
   "metadata": {},
   "outputs": [],
   "source": []
  }
 ],
 "metadata": {
  "kernelspec": {
   "display_name": "Python 3",
   "language": "python",
   "name": "python3"
  },
  "language_info": {
   "codemirror_mode": {
    "name": "ipython",
    "version": 3
   },
   "file_extension": ".py",
   "mimetype": "text/x-python",
   "name": "python",
   "nbconvert_exporter": "python",
   "pygments_lexer": "ipython3",
   "version": "3.7.3"
  }
 },
 "nbformat": 4,
 "nbformat_minor": 2
}
