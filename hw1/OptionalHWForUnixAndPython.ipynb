{
 "cells": [
  {
   "cell_type": "markdown",
   "metadata": {},
   "source": [
    "# Write Unix commands for the following functionalities"
   ]
  },
  {
   "cell_type": "markdown",
   "metadata": {},
   "source": [
    "**Question 1** : Find the current directory on the terminal"
   ]
  },
  {
   "cell_type": "code",
   "execution_count": null,
   "metadata": {},
   "outputs": [],
   "source": []
  },
  {
   "cell_type": "markdown",
   "metadata": {},
   "source": [
    "**Question 2** : List all the files in the current directory"
   ]
  },
  {
   "cell_type": "code",
   "execution_count": null,
   "metadata": {},
   "outputs": [],
   "source": []
  },
  {
   "cell_type": "markdown",
   "metadata": {},
   "source": [
    "**Question 3** : Create a text file **test.txt** in the current directory and write **Hello!This is my first text file in Linux** in it and then,create a copy of the text file to a new file named **test2.txt**"
   ]
  },
  {
   "cell_type": "code",
   "execution_count": null,
   "metadata": {},
   "outputs": [],
   "source": []
  },
  {
   "cell_type": "markdown",
   "metadata": {},
   "source": [
    "**Question 4**: List all the files in the current directory that has an extension **.txt**"
   ]
  },
  {
   "cell_type": "code",
   "execution_count": null,
   "metadata": {},
   "outputs": [],
   "source": []
  },
  {
   "cell_type": "markdown",
   "metadata": {},
   "source": [
    "**Question 5**: Create a subdirectory inside the current directory named **subdir** and copy files in the current directory that have **test** in their names to that subdirectory. List the files inside **subdir**"
   ]
  },
  {
   "cell_type": "code",
   "execution_count": null,
   "metadata": {},
   "outputs": [],
   "source": []
  },
  {
   "cell_type": "markdown",
   "metadata": {},
   "source": [
    "**Question 6**: Count the number of words in **test.txt** that have the substring **is** in it.\n",
    "\n",
    "\n",
    "**Hint**:Use **grep** and **wordcount**"
   ]
  },
  {
   "cell_type": "code",
   "execution_count": null,
   "metadata": {},
   "outputs": [],
   "source": []
  },
  {
   "cell_type": "markdown",
   "metadata": {},
   "source": [
    "**Question 7**:Use the text file **wodehouse.txt** and display the first 30 and the last 30 sentences"
   ]
  },
  {
   "cell_type": "code",
   "execution_count": null,
   "metadata": {},
   "outputs": [],
   "source": []
  },
  {
   "cell_type": "markdown",
   "metadata": {},
   "source": [
    "**Question 8**:Transform **wodehouse.txt** to **wodehouse_upper.txt**(All the letters will be in **UpperCase**) and then,display the occurrences of the word **TRUST** in that text file"
   ]
  },
  {
   "cell_type": "code",
   "execution_count": null,
   "metadata": {},
   "outputs": [],
   "source": []
  },
  {
   "cell_type": "markdown",
   "metadata": {},
   "source": [
    "**Question 9**:Count the total number of unique words in **wodehouse_upper.txt**"
   ]
  },
  {
   "cell_type": "code",
   "execution_count": null,
   "metadata": {},
   "outputs": [],
   "source": []
  },
  {
   "cell_type": "markdown",
   "metadata": {},
   "source": [
    "**Question 10**: Display the top 100 most frequent words in **wodehouse_upper.txt** along with their respective frequencies"
   ]
  },
  {
   "cell_type": "code",
   "execution_count": null,
   "metadata": {},
   "outputs": [],
   "source": []
  },
  {
   "cell_type": "markdown",
   "metadata": {},
   "source": [
    "**Question 11**: Concatenate **wodehouse.txt** and **test.txt** to **final.txt**. Read **final.txt** using **cat** and **less** commands.Explain the observational differences between the usage of **cat** and **less** commands in a 1-2 sentences"
   ]
  },
  {
   "cell_type": "code",
   "execution_count": null,
   "metadata": {},
   "outputs": [],
   "source": []
  },
  {
   "cell_type": "markdown",
   "metadata": {},
   "source": [
    "# Write Python Code for the following functionalities"
   ]
  },
  {
   "cell_type": "code",
   "execution_count": 3,
   "metadata": {},
   "outputs": [
    {
     "name": "stdout",
     "output_type": "stream",
     "text": [
      "Valid Anagram\n"
     ]
    }
   ],
   "source": [
    "def isValidAnagram(s,t):\n",
    "    #Return true,if t is valid anagram of s,false otherwise\n",
    "    #s=\"anagram\",t=\"nagaram\",True\n",
    "    return False\n",
    "\n",
    "print(\"Valid Anagram\")    "
   ]
  },
  {
   "cell_type": "code",
   "execution_count": 4,
   "metadata": {},
   "outputs": [
    {
     "name": "stdout",
     "output_type": "stream",
     "text": [
      "Word Frequency\n"
     ]
    }
   ],
   "source": [
    "def wordFrequency(s):\n",
    "    wordFrequencyDict={}\n",
    "    #s is a sentence in English.Return a dictionary that has all the words as keys and their frequencies(no of times the word\n",
    "    #occurs in the sentence) as the respective values\n",
    "    return wordFrequencyDict\n",
    "\n",
    "print(\"Word Frequency\")"
   ]
  },
  {
   "cell_type": "code",
   "execution_count": 6,
   "metadata": {},
   "outputs": [
    {
     "name": "stdout",
     "output_type": "stream",
     "text": [
      "Word Frequency Plot\n"
     ]
    }
   ],
   "source": [
    "import matplotlib.pyplot as plt\n",
    "%matplotlib inline\n",
    "def plotWordFrequency(wordFrequencyDict):\n",
    "    #Plot the wordFrequency Dict using matplotlib where x-axis has the words and y-axis has the frequencies\n",
    "    plt.show()\n",
    "    \n",
    "print(\"Word Frequency Plot\")"
   ]
  },
  {
   "cell_type": "code",
   "execution_count": 7,
   "metadata": {},
   "outputs": [
    {
     "name": "stdout",
     "output_type": "stream",
     "text": [
      "Matrix Multiplication without Numpy\n"
     ]
    }
   ],
   "source": [
    "def matrixMultiplicationWithoutNumpy(A,B):\n",
    "    # A is a list of m lists where each list has n elements(m*n)\n",
    "    # B is a list of n lists where each list has k elements(n*k)\n",
    "    # return C where C is the matrix multiplication result of A and B(dimension=m*k)\n",
    "    return None\n",
    "\n",
    "print(\"Matrix Multiplication without Numpy\")"
   ]
  },
  {
   "cell_type": "code",
   "execution_count": 8,
   "metadata": {},
   "outputs": [
    {
     "name": "stdout",
     "output_type": "stream",
     "text": [
      "Matrix Multiplication with Numpy\n"
     ]
    }
   ],
   "source": [
    "import numpy as np\n",
    "def matrixMultiplicationWithNumpy(A,B):\n",
    "    # A is a double-dimensional numpy array(m*n)\n",
    "    # B is a double-dimensional numpy array(n*k)\n",
    "    # return C where C is the matrix multiplication result of A and B(dimension=m*k)\n",
    "    return None\n",
    "\n",
    "print(\"Matrix Multiplication with Numpy\")"
   ]
  }
 ],
 "metadata": {
  "kernelspec": {
   "display_name": "Python 3",
   "language": "python",
   "name": "python3"
  },
  "language_info": {
   "codemirror_mode": {
    "name": "ipython",
    "version": 3
   },
   "file_extension": ".py",
   "mimetype": "text/x-python",
   "name": "python",
   "nbconvert_exporter": "python",
   "pygments_lexer": "ipython3",
   "version": "3.7.4"
  }
 },
 "nbformat": 4,
 "nbformat_minor": 4
}
