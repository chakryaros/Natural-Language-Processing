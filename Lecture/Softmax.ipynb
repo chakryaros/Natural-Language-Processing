{
 "cells": [
  {
   "cell_type": "code",
   "execution_count": 6,
   "metadata": {},
   "outputs": [],
   "source": [
    "import numpy as np\n",
    "\n",
    "\n",
    "def softmax(z_i, z):\n",
    "    return np.exp(z_i)/ np.sum(np.exp(z), axis=0)\n",
    "\n",
    "\n",
    "# def softmax(z):\n",
    "#     return (np.exp(z.T) / np.sum(np.exp(z), axis=1)).T\n"
   ]
  },
  {
   "cell_type": "code",
   "execution_count": 7,
   "metadata": {},
   "outputs": [
    {
     "name": "stdout",
     "output_type": "stream",
     "text": [
      "[4.0, 3.25, -0.625]\n",
      "0.6746863448968778\n"
     ]
    }
   ],
   "source": [
    "import numpy as np\n",
    "import math\n",
    "x = [3, 0.75]\n",
    "w = [[1, 0],\n",
    "     [2, -3],\n",
    "     [0, 0.5]]\n",
    "b =[1, -0.5, -1]\n",
    "z = []\n",
    "for i in range(len(w)):\n",
    "    z.append((np.dot(x,w[i])) + b[i])\n",
    "print(z)\n",
    "\n",
    "\n",
    "# for the \n",
    "def softmax(z_i, z):\n",
    "    return np.exp(z_i)/ np.sum(np.exp(z), axis=0)\n",
    "#question one calculate p(y=1|x)\n",
    "print(softmax((4), z))\n"
   ]
  },
  {
   "cell_type": "code",
   "execution_count": 8,
   "metadata": {},
   "outputs": [
    {
     "name": "stdout",
     "output_type": "stream",
     "text": [
      "1.9759409653093665\n"
     ]
    }
   ],
   "source": [
    "tha_1 = (0.6746863448968778 - 1) * 3\n",
    "tha_2 = (4 - 1) * 3\n",
    "tha_3 = (-0.625) -1\n",
    "\n",
    "w_1 = 1 - tha_1\n",
    "print(w_1)"
   ]
  },
  {
   "cell_type": "code",
   "execution_count": 11,
   "metadata": {},
   "outputs": [
    {
     "name": "stdout",
     "output_type": "stream",
     "text": [
      "[-0.9759600000000002, -0.24399000000000004, -0.32532000000000005]\n"
     ]
    }
   ],
   "source": [
    "x = [3, 0.75, 1]\n",
    "w = [[1, 0],\n",
    "     [2, -3],\n",
    "     [0, 0.5]]\n",
    "b =[1, -0.5, -1]\n",
    "def gradient(x,z,y=1):\n",
    "    grad = []\n",
    "    \n",
    "    for i in range(len(x)):\n",
    "        grad.append(-(y-0.67468)*x[i])\n",
    "    return grad\n",
    "\n",
    "grad = gradient(x,z,1)\n",
    "print(grad)\n",
    "# w_t_1_new = []\n",
    "# for i in range(len(grad)):\n",
    "#     w_t_1_new.append(w[i]+(0.1*grad[i]))\n",
    "# print(\"w_t_1_new = {}\".format(w_t_1_new))\n",
    "\n"
   ]
  },
  {
   "cell_type": "code",
   "execution_count": null,
   "metadata": {},
   "outputs": [],
   "source": []
  }
 ],
 "metadata": {
  "kernelspec": {
   "display_name": "Python 3",
   "language": "python",
   "name": "python3"
  },
  "language_info": {
   "codemirror_mode": {
    "name": "ipython",
    "version": 3
   },
   "file_extension": ".py",
   "mimetype": "text/x-python",
   "name": "python",
   "nbconvert_exporter": "python",
   "pygments_lexer": "ipython3",
   "version": "3.7.3"
  }
 },
 "nbformat": 4,
 "nbformat_minor": 2
}
