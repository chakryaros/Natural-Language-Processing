{
 "cells": [
  {
   "cell_type": "markdown",
   "metadata": {
    "slideshow": {
     "slide_type": "-"
    }
   },
   "source": [
    "# Introduction to Unix - An Exercise in Simple Word Tokenization*\n",
    "\n",
    "We'll use a collection of short stories by P.G. Wodehouse as our case study. We grabbed the collection 'The Man Upstairs and Other Stories' from Gutenberg. Let's look at the first few lines.\n",
    "\n",
    "\\* Inspired by Ken Church's Unix for Poets, Dr. Jim Martin's adaptation of the same"
   ]
  },
  {
   "cell_type": "code",
   "execution_count": 1,
   "metadata": {},
   "outputs": [
    {
     "data": {
      "text/plain": [
       "'/Users/chakryaros/Dropbox/csci3832/hwOptional'"
      ]
     },
     "execution_count": 1,
     "metadata": {},
     "output_type": "execute_result"
    }
   ],
   "source": [
    "pwd"
   ]
  },
  {
   "cell_type": "code",
   "execution_count": 2,
   "metadata": {},
   "outputs": [
    {
     "name": "stdout",
     "output_type": "stream",
     "text": [
      "wodehouse_lower.txt:5:there were three distinct stages in the evolution of annette brougham's\r",
      "\r\n",
      "wodehouse_lower.txt:1061:inaudible. however, as she distinctly caught the word 'love' twice, and\r",
      "\r\n",
      "wodehouse_lower.txt:2989:'if people spoke distinct,' said the waiter, 'there wouldn't be half\r",
      "\r\n",
      "wodehouse_lower.txt:5126:ruth a human weakness for sweets, and it was with a distinct effort\r",
      "\r\n",
      "wodehouse_lower.txt:7348:'there, sir! didn't you 'ear 'im then? quite distinct it was.'\r",
      "\r\n",
      "wodehouse_lower.txt:8112:was! how soothing, if a little indistinct, his voice!\r",
      "\r\n",
      "wodehouse_lower.txt:8153:outlines of mr prosser became sharp and distinct again.\r",
      "\r\n",
      "wodehouse_lower.txt:11055:considered a distinctly furtive air about him. his eyes were too close\r",
      "\r\n",
      "wodehouse_lower.txt:11732:ordinary spectator. to the trained eye there are subtle distinctions\r",
      "\r\n"
     ]
    }
   ],
   "source": [
    "!grep -nr 'distinct*' wodehouse_lower.txt"
   ]
  },
  {
   "cell_type": "markdown",
   "metadata": {},
   "source": [
    "**Common Grep Command Usage**\n",
    "\n",
    "**-n**:            Show relative line number in the file\n",
    "\n",
    "\n",
    "**'distinct*'**:   Searches for the word distinct, followed by any character\n",
    "\n",
    "\n",
    "**-r**:            Recursively search subdirectories listed\n",
    "\n",
    "\n",
    "**textFile.txt**:  Searches only in the provided textfile"
   ]
  },
  {
   "cell_type": "code",
   "execution_count": 4,
   "metadata": {},
   "outputs": [
    {
     "name": "stdout",
     "output_type": "stream",
     "text": [
      "\r",
      "\r\n",
      "THE MAN UPSTAIRS\r",
      "\r\n",
      "\r",
      "\r\n",
      "\r",
      "\r\n",
      "There were three distinct stages in the evolution of Annette Brougham's\r",
      "\r\n",
      "attitude towards the knocking in the room above. In the beginning it\r",
      "\r\n",
      "had been merely a vague discomfort. Absorbed in the composition of her\r",
      "\r\n",
      "waltz, she had heard it almost subconsciously. The second stage set in\r",
      "\r\n",
      "when it became a physical pain like red-hot pincers wrenching her mind\r",
      "\r\n",
      "from her music. Finally, with a thrill in indignation, she knew it for\r",
      "\r\n",
      "cat: stdout: Broken pipe\r\n"
     ]
    }
   ],
   "source": [
    "cat wodehouse.txt | head"
   ]
  },
  {
   "cell_type": "code",
   "execution_count": 5,
   "metadata": {},
   "outputs": [
    {
     "name": "stdout",
     "output_type": "stream",
     "text": [
      "\r",
      "\r\n",
      "Rutherford sat on, motionless. Outside, the blackness changed to grey,\r",
      "\r\n",
      "and the grey to white. He got up. He felt very stiff and cold.\r",
      "\r\n",
      "\r",
      "\r\n",
      "'A Broadway dream!' he muttered.\r",
      "\r\n",
      "\r",
      "\r\n",
      "He went to the mantelpiece and took up the photograph. He carried it to\r",
      "\r\n",
      "the window where he could see it better.\r",
      "\r\n",
      "\r",
      "\r\n",
      "A shaft of sunlight pierced the curtains and fell upon it."
     ]
    }
   ],
   "source": [
    "cat wodehouse.txt | tail"
   ]
  },
  {
   "cell_type": "markdown",
   "metadata": {},
   "source": [
    "**Let's talk about some of the commands we used here:**\n",
    "\n",
    "1. **cat**: The cat (short for “concatenate“) command is one of the most frequently used command in Linux/Unix like operating systems. cat command allows us to create single or multiple files, view contain of file, concatenate files and redirect output in terminal or files. \n",
    "\n",
    "\n",
    "2. **head**: By default the head command prints the first ten lines of a file, as we can see from the example above. If you want to print more or less than 10 lines from the beginning of the file, the head command -n option lets you specify how many lines you want to see. [Replace the first cell of code with 'cat wodehouse.txt | head -n 30' and report your results]\n",
    "\n",
    "\n",
    "3. **tail**: By default the Linux tail command also prints ten lines of a file, but it prints the last 10 lines, as we can see from the example above. The tail command has another quite useful option -f which keeps printing the end-of-file while keeping the file open (which makes it useful in examining log files)."
   ]
  },
  {
   "cell_type": "markdown",
   "metadata": {},
   "source": [
    "**Now let's do a simple check by noting the total number of lines and words in the file**"
   ]
  },
  {
   "cell_type": "code",
   "execution_count": 6,
   "metadata": {},
   "outputs": [
    {
     "name": "stdout",
     "output_type": "stream",
     "text": [
      "   13197  100189  574851 wodehouse.txt\r\n"
     ]
    }
   ],
   "source": [
    "!wc wodehouse.txt"
   ]
  },
  {
   "cell_type": "markdown",
   "metadata": {},
   "source": [
    "**wc** gives us a four-columnar output - so wodehouse.txt has 13197 newlines, 100189 words and 574851 characters."
   ]
  },
  {
   "cell_type": "code",
   "execution_count": 1,
   "metadata": {},
   "outputs": [],
   "source": [
    "less wodehouse.txt"
   ]
  },
  {
   "cell_type": "markdown",
   "metadata": {},
   "source": [
    "Run the above cell to examine the output from the \"less\" command. After that, try using the cat command on the same file. What do you think are the differences between 'less' and 'cat'? Understanding the differences is left as an exercise to the student."
   ]
  },
  {
   "cell_type": "markdown",
   "metadata": {},
   "source": [
    "Many of the text-oriented Unix tools are line oriented, so it would be useful to have each word on a line by itself. To do this let's do some really naïve tokenization using the 'tr' command. \n",
    "\n",
    "**How does tr work? What other options do we need?**\n",
    "\n",
    "'tr' works by taking two patterns and converts matches in the first to corresponding elements in the second.  In this case, we're using the -c option which takes the complement of the first pattern.  The -s option collapses repeated translations to a single one. In plain English that means converted anything that isn't a letter to a carriage return. "
   ]
  },
  {
   "cell_type": "code",
   "execution_count": 47,
   "metadata": {},
   "outputs": [
    {
     "name": "stdout",
     "output_type": "stream",
     "text": [
      "\n",
      "THE\n",
      "MAN\n",
      "UPSTAIRS\n",
      "There\n",
      "were\n",
      "three\n",
      "distinct\n",
      "stages\n",
      "in\n"
     ]
    }
   ],
   "source": [
    "!tr -sc 'A-Za-z' '\\n' < wodehouse.txt | head"
   ]
  },
  {
   "cell_type": "markdown",
   "metadata": {},
   "source": [
    "Given the one word per line format we can use 'sort' to gather all instances of the same type together."
   ]
  },
  {
   "cell_type": "code",
   "execution_count": 51,
   "metadata": {},
   "outputs": [
    {
     "name": "stdout",
     "output_type": "stream",
     "text": [
      "\n",
      "A\n",
      "A\n",
      "A\n",
      "A\n",
      "A\n",
      "A\n",
      "A\n",
      "A\n",
      "A\n",
      "sort: Broken pipe\n"
     ]
    }
   ],
   "source": [
    "!tr -sc 'A-Za-z' '\\n' < wodehouse.txt | sort | head"
   ]
  },
  {
   "cell_type": "markdown",
   "metadata": {},
   "source": [
    "That's not all that illuminating.  Fortunately, the 'uniq' command can help. Uniq collapses repeated lines to a single line. "
   ]
  },
  {
   "cell_type": "code",
   "execution_count": 52,
   "metadata": {},
   "outputs": [
    {
     "name": "stdout",
     "output_type": "stream",
     "text": [
      "\n",
      "A\n",
      "ABOUT\n",
      "ADVICE\n",
      "AGRAVAINE\n",
      "AHEAD\n",
      "ALCALA\n",
      "AND\n",
      "ANGEL\n",
      "ANSWERS\n"
     ]
    }
   ],
   "source": [
    "!tr -sc 'A-Za-z' '\\n' < wodehouse.txt | sort | uniq | head"
   ]
  },
  {
   "cell_type": "markdown",
   "metadata": {},
   "source": [
    "Counting the number of lines using 'wc' will give us the size of Wodehouse's vocabulary. "
   ]
  },
  {
   "cell_type": "code",
   "execution_count": 3,
   "metadata": {},
   "outputs": [
    {
     "name": "stdout",
     "output_type": "stream",
     "text": [
      "10252\n"
     ]
    }
   ],
   "source": [
    "!tr -sc 'A-Za-z' '\\n' < wodehouse.txt | sort | uniq | wc -l"
   ]
  },
  {
   "cell_type": "markdown",
   "metadata": {},
   "source": [
    "**This vocabulary size is definitely misleading since we're treating lowercase and uppercase to be the same. So, we preprocess our text (and this is going to be a large part of what we do in Natural Language Processing, preprocess text) to convert all of it to lowercase.**"
   ]
  },
  {
   "cell_type": "code",
   "execution_count": 3,
   "metadata": {},
   "outputs": [],
   "source": [
    "!tr 'A-Z' 'a-z' < wodehouse.txt > wodehouse_lower1.txt"
   ]
  },
  {
   "cell_type": "code",
   "execution_count": 6,
   "metadata": {},
   "outputs": [
    {
     "name": "stdout",
     "output_type": "stream",
     "text": [
      "    9597\r\n"
     ]
    }
   ],
   "source": [
    "!tr -cs \"a-z\" '\\n' < wodehouse_lower.txt | sort | uniq | wc -l"
   ]
  },
  {
   "cell_type": "markdown",
   "metadata": {},
   "source": [
    "So, we can observe that this number has reduced. It might be good to know the frequency with which he used each of those words. Fortunately, the -c option to 'uniq' that gives us the count as it collapses those repeated lines."
   ]
  },
  {
   "cell_type": "code",
   "execution_count": 63,
   "metadata": {},
   "outputs": [
    {
     "name": "stdout",
     "output_type": "stream",
     "text": [
      "   1 \n",
      "2791 a\n",
      "   2 abandon\n",
      "   1 abandoned\n",
      "   1 abashed\n",
      "   1 abbey\n",
      "   1 abducted\n",
      "   2 ability\n",
      "   1 abit\n",
      "   1 abject\n"
     ]
    }
   ],
   "source": [
    "!tr -sc 'a-z' '\\n' < wodehouse_lower.txt | sort | uniq -c | head"
   ]
  },
  {
   "cell_type": "markdown",
   "metadata": {},
   "source": [
    "We can sort this by frequency by using sort -rn which sorts in reverse numerical order."
   ]
  },
  {
   "cell_type": "code",
   "execution_count": 61,
   "metadata": {},
   "outputs": [
    {
     "name": "stdout",
     "output_type": "stream",
     "text": [
      "4945 the\n",
      "2791 a\n",
      "2608 to\n",
      "2410 of\n",
      "2369 he\n",
      "2255 and\n",
      "2072 i\n",
      "1761 was\n",
      "1661 it\n",
      "1609 you\n",
      "sort: Broken pipe\n"
     ]
    }
   ],
   "source": [
    "!tr -sc 'a-z' '\\n' < wodehouse_lower.txt | sort | uniq -c | sort -rn | head"
   ]
  },
  {
   "cell_type": "code",
   "execution_count": 25,
   "metadata": {},
   "outputs": [
    {
     "name": "stdout",
     "output_type": "stream",
     "text": [
      "sort: write failed: 'standard output': Broken pipe\n",
      "sort: write error\n"
     ]
    }
   ],
   "source": [
    "!tr -sc 'a-z' '\\n' < wodehouse_lower.txt | sort | uniq -c | sort -rn | head -n 1000 > wodehouse-lower-top-1000.txt"
   ]
  },
  {
   "cell_type": "markdown",
   "metadata": {},
   "source": [
    "This is a very common kind of distribution called a long tail distribution. The highest frequency words are very frequent. But word frequency drops very quickly until we have a long long tail of words that have occured only one time. For word frequencies this typically corresponds to what is called a Zipf distribution. It has large implications for how we build statistical models using machine learning methods."
   ]
  },
  {
   "cell_type": "code",
   "execution_count": 26,
   "metadata": {},
   "outputs": [
    {
     "data": {
      "image/png": "[encoded data removed]",
      "text/plain": [
       "<Figure size 432x288 with 1 Axes>"
      ]
     },
     "metadata": {
      "needs_background": "light"
     },
     "output_type": "display_data"
    }
   ],
   "source": [
    "import sys\n",
    "import matplotlib\n",
    "matplotlib.use('Agg')\n",
    "import numpy as np\n",
    "import matplotlib.pyplot as plt\n",
    "%matplotlib inline\n",
    "\n",
    "lexicon = {}\n",
    "\n",
    "def loadLexicon(file):\n",
    "    for line in file:\n",
    "        count, word = line.split()\n",
    "        lexicon[word] = int(count)\n",
    "\n",
    "\n",
    "if __name__ == \"__main__\":\n",
    "    loadLexicon(open('wodehouse-lower-top-1000.txt'))\n",
    "    freqs = plt.bar(range(len(lexicon.keys())), sorted(lexicon.values(), reverse=True))\n",
    "    plt.xlabel('Words')\n",
    "    plt.ylabel('Frequency')\n",
    "    plt.title('Word frequency plot')\n",
    "    #plt.savefig(sys.stdout.buffer)\n",
    "    plt.show()"
   ]
  },
  {
   "cell_type": "markdown",
   "metadata": {},
   "source": [
    "Let's go back and look at the one word per line text. Moving on to consider bigrams, we can see that each of these lines is the start of a bigram, with the second word being on the next line.  "
   ]
  },
  {
   "cell_type": "code",
   "execution_count": 70,
   "metadata": {},
   "outputs": [
    {
     "name": "stdout",
     "output_type": "stream",
     "text": [
      "\n",
      "the\n",
      "man\n",
      "upstairs\n",
      "there\n",
      "were\n",
      "three\n",
      "distinct\n",
      "stages\n",
      "in\n"
     ]
    }
   ],
   "source": [
    "!tr -cs 'a-z' '\\n' < wodehouse_lower.txt | head"
   ]
  },
  {
   "cell_type": "markdown",
   "metadata": {},
   "source": [
    "Let's save that to a file."
   ]
  },
  {
   "cell_type": "code",
   "execution_count": 71,
   "metadata": {},
   "outputs": [],
   "source": [
    "!tr -cs 'a-z' '\\n' < wodehouse_lower.txt > onewordperline.txt"
   ]
  },
  {
   "cell_type": "markdown",
   "metadata": {},
   "source": [
    "Let's revisit the 'tail' command. This returns the contents of a file starting at some position.  Here we ask for the one word per line file starting at the second line. "
   ]
  },
  {
   "cell_type": "code",
   "execution_count": 73,
   "metadata": {},
   "outputs": [
    {
     "name": "stdout",
     "output_type": "stream",
     "text": [
      "the\n",
      "man\n",
      "upstairs\n",
      "there\n",
      "were\n",
      "three\n",
      "distinct\n",
      "stages\n",
      "in\n",
      "the\n",
      "tail: stdout: Broken pipe\n"
     ]
    }
   ],
   "source": [
    "!tail +2 onewordperline.txt | head"
   ]
  },
  {
   "cell_type": "markdown",
   "metadata": {},
   "source": [
    "Putting this together with the paste command - voila we have our bigrams."
   ]
  },
  {
   "cell_type": "code",
   "execution_count": 74,
   "metadata": {},
   "outputs": [
    {
     "name": "stdout",
     "output_type": "stream",
     "text": [
      "\tthe\n",
      "the\tman\n",
      "man\tupstairs\n",
      "upstairs\tthere\n",
      "there\twere\n",
      "were\tthree\n",
      "three\tdistinct\n",
      "distinct\tstages\n",
      "stages\tin\n",
      "in\tthe\n"
     ]
    }
   ],
   "source": [
    "!tail +2 onewordperline.txt | paste onewordperline.txt - | head"
   ]
  },
  {
   "cell_type": "markdown",
   "metadata": {},
   "source": [
    "If we do our sort, uniq, sort trick on that output we get our bigram counts."
   ]
  },
  {
   "cell_type": "code",
   "execution_count": 75,
   "metadata": {},
   "outputs": [],
   "source": [
    "!tail +2 onewordperline.txt | paste onewordperline.txt - | sort | uniq -c | sort -rn > bigram-counts.txt"
   ]
  },
  {
   "cell_type": "code",
   "execution_count": 77,
   "metadata": {},
   "outputs": [
    {
     "name": "stdout",
     "output_type": "stream",
     "text": [
      "   55151 bigram-counts.txt\n"
     ]
    }
   ],
   "source": [
    "!wc -l bigram-counts.txt"
   ]
  },
  {
   "cell_type": "markdown",
   "metadata": {},
   "source": [
    "Okay, so that's 55151 bigrams. Let's look at the counts themselves."
   ]
  },
  {
   "cell_type": "code",
   "execution_count": 79,
   "metadata": {},
   "outputs": [
    {
     "name": "stdout",
     "output_type": "stream",
     "text": [
      " 501 of\tthe\n",
      " 445 in\tthe\n",
      " 350 it\twas\n",
      " 309 on\tthe\n",
      " 298 he\thad\n",
      " 270 he\twas\n",
      " 255 to\tthe\n",
      " 237 he\tsaid\n",
      " 210 at\tthe\n",
      " 209 was\ta\n",
      " 180 don\tt\n",
      " 172 to\tbe\n",
      " 172 in\ta\n",
      " 170 of\ta\n",
      " 156 it\tis\n",
      " 154 had\tbeen\n",
      " 152 that\the\n",
      " 150 with\ta\n",
      " 144 i\tm\n",
      " 137 there\twas\n",
      " 137 i\tam\n",
      " 127 in\this\n",
      " 126 it\ts\n",
      " 124 for\tthe\n",
      " 122 i\thave\n",
      " 117 of\this\n",
      " 116 with\tthe\n",
      " 115 and\tthe\n",
      " 109 from\tthe\n",
      " 107 did\tnot\n",
      "  98 was\tnot\n",
      "  97 for\ta\n",
      "  96 one\tof\n",
      "  89 she\tsaid\n",
      "  88 she\twas\n",
      "  88 do\tyou\n",
      "  87 and\ti\n",
      "  87 a\tman\n",
      "  85 she\thad\n",
      "  84 by\tthe\n",
      "  82 was\tthe\n",
      "  81 to\thim\n",
      "  79 as\ta\n",
      "  75 and\the\n",
      "  74 that\tthe\n",
      "  73 i\tve\n",
      "  72 is\ta\n",
      "  72 i\tll\n",
      "  71 that\ti\n",
      "  71 said\tthe\n"
     ]
    }
   ],
   "source": [
    "!head -n 50 bigram-counts.txt"
   ]
  },
  {
   "cell_type": "markdown",
   "metadata": {},
   "source": [
    "In modern NLP, you would ideally do all of your analysis on your corpus after removing stopwords (and this is something we will see later in the course). So all the common words would be removed and words from which more insight can be gained will be retained. Here, we can see that most common bigrams are made up of words that are fairly common in the English lexicon."
   ]
  }
 ],
 "metadata": {
  "kernelspec": {
   "display_name": "Python 3",
   "language": "python",
   "name": "python3"
  },
  "language_info": {
   "codemirror_mode": {
    "name": "ipython",
    "version": 3
   },
   "file_extension": ".py",
   "mimetype": "text/x-python",
   "name": "python",
   "nbconvert_exporter": "python",
   "pygments_lexer": "ipython3",
   "version": "3.7.3"
  }
 },
 "nbformat": 4,
 "nbformat_minor": 4
}
